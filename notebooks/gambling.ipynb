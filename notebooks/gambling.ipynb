{
 "cells": [
  {
   "cell_type": "markdown",
   "metadata": {},
   "source": [
    "# Gambling\n",
    "\n",
    "## Pseudocode\n",
    "```\n",
    "FUNCTION play_craps(point):\n",
    "    SET win to a list of numbers that win on first throw\n",
    "    SET crap to a list of numbers that lose on first throw\n",
    "    SET dice_num to a random number, 2 <= dice_num <= 12\n",
    "    \n",
    "    IF there isn't a point yet THEN\n",
    "        if dice_num is in win list THEN\n",
    "            return \"win\"\n",
    "        if dice_num is in crap list THEN\n",
    "            return \"lose\"\n",
    "        dice_num is a point,\n",
    "        so return play_craps(dice_num)\n",
    "    ENDIF\n",
    "    \n",
    "    IF point is equal to dice_num THEN\n",
    "        return \"win\"\n",
    "    ENDIF\n",
    "    \n",
    "    IF dice_num is equal to 7 THEN\n",
    "        return \"lose\"\n",
    "    ENDIF\n",
    "ENDFUNCTION\n",
    "\n",
    "SET number_of_wins to 0\n",
    "\n",
    "FOR each game:\n",
    "    IF play_craps(0) result is \"win\" THEN\n",
    "        number_of_wins += 1\n",
    "    ENDIF\n",
    "ENDFOR\n",
    "\n",
    "Print(number_of_wins)\n",
    "```"
   ]
  },
  {
   "cell_type": "markdown",
   "metadata": {},
   "source": [
    "## Testing"
   ]
  },
  {
   "cell_type": "code",
   "execution_count": 40,
   "metadata": {},
   "outputs": [
    {
     "name": "stdout",
     "output_type": "stream",
     "text": [
      "5\n",
      "6\n",
      "8\n"
     ]
    }
   ],
   "source": [
    "from random import randint, seed\n",
    "\n",
    "seed(39)\n",
    "\n",
    "for i in range(0, 3):\n",
    "    print(randint(2, 12))"
   ]
  },
  {
   "cell_type": "code",
   "execution_count": 41,
   "metadata": {},
   "outputs": [
    {
     "name": "stdout",
     "output_type": "stream",
     "text": [
      "Testcase 1:\n",
      "dice number: 7\n",
      "first throw, win \n",
      "\n",
      "Testcase 2:\n",
      "dice number: 11\n",
      "first throw, win \n",
      "\n",
      "Testcase 3:\n",
      "dice number: 2\n",
      "first throw, lose \n",
      "\n",
      "Testcase 4:\n",
      "dice number: 4\n",
      "dice number: 4\n",
      "made point, win \n",
      "\n",
      "Testcase 5:\n",
      "dice number: 5\n",
      "dice number: 6\n",
      "dice number: 7\n",
      "haven't made point, lose \n",
      "\n",
      "Testcase 6:\n",
      "dice number: 8\n",
      "dice number: 2\n",
      "dice number: 3\n",
      "dice number: 12\n",
      "dice number: 8\n",
      "made point, win \n",
      "\n"
     ]
    }
   ],
   "source": [
    "def play_craps(point):\n",
    "    win = [7, 11]\n",
    "    crap = [2, 3, 12]\n",
    "    dice_num = int(input(\"dice number: \"))\n",
    "    \n",
    "    if point == 0:\n",
    "        if dice_num in win:\n",
    "            return \"first throw, win\"\n",
    "        if dice_num in crap:\n",
    "            return \"first throw, lose\"\n",
    "        return play_craps(dice_num)\n",
    "    \n",
    "    if point == dice_num:\n",
    "        return \"made point, win\"\n",
    "    \n",
    "    if dice_num == 7:\n",
    "        return \"haven't made point, lose\"\n",
    "    \n",
    "    return play_craps(point)\n",
    "\n",
    "\n",
    "for s in range(0, 6):\n",
    "    print(f\"Testcase {s+1}:\")\n",
    "    print(play_craps(0), '\\n')"
   ]
  },
  {
   "cell_type": "markdown",
   "metadata": {},
   "source": [
    "## Code"
   ]
  },
  {
   "cell_type": "code",
   "execution_count": 39,
   "metadata": {},
   "outputs": [
    {
     "name": "stdout",
     "output_type": "stream",
     "text": [
      "4611\n"
     ]
    }
   ],
   "source": [
    "from random import randint, seed\n",
    "\n",
    "def play_craps(point):\n",
    "    win = [7, 11]\n",
    "    crap = [2, 3, 12]\n",
    "    dice_num = randint(2, 12)\n",
    "    \n",
    "    if point == 0:\n",
    "        if dice_num in win:\n",
    "            return \"win\"\n",
    "        if dice_num in crap:\n",
    "            return \"lose\"\n",
    "        return play_craps(dice_num)\n",
    "    \n",
    "    if point == dice_num:\n",
    "        return \"win\"\n",
    "    \n",
    "    if dice_num == 7:\n",
    "        return \"lose\"\n",
    "    \n",
    "    return play_craps(point)\n",
    "\n",
    "\n",
    "win_num = 0\n",
    "\n",
    "seed(39)\n",
    "\n",
    "for i in range(0, 10**4):\n",
    "    if play_craps(0) == \"win\":\n",
    "        win_num += 1\n",
    "\n",
    "print(win_num)"
   ]
  }
 ],
 "metadata": {
  "kernelspec": {
   "display_name": "Python 3",
   "language": "python",
   "name": "python3"
  },
  "language_info": {
   "codemirror_mode": {
    "name": "ipython",
    "version": 3
   },
   "file_extension": ".py",
   "mimetype": "text/x-python",
   "name": "python",
   "nbconvert_exporter": "python",
   "pygments_lexer": "ipython3",
   "version": "3.7.1"
  }
 },
 "nbformat": 4,
 "nbformat_minor": 2
}
