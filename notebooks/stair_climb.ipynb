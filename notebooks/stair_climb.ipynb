{
 "cells": [
  {
   "cell_type": "markdown",
   "metadata": {},
   "source": [
    "# Stair_climb"
   ]
  },
  {
   "cell_type": "markdown",
   "metadata": {},
   "source": [
    "## Solution\n",
    "\n",
    "### Base case\n",
    "* When there is 1 flight to climb, there is only 1 way to climb the stairs.\n",
    "* When there are 2 flights to climb, there are 2 ways to climb the stairs: 1+1 or 2.\n",
    "\n",
    "### Other cases\n",
    "When there are $n$ flights to climb ($n >2$), there are 2 options:\n",
    "1. Take a 2-flight step $\\rightarrow$ number of ways = number of ways to climb $n-2$ flights.\n",
    "2. Take a 1-flight step $\\rightarrow$ number of ways = number of ways to climb $n-1$ flights.\n",
    "\n",
    "$\\therefore$ the number of ways to climb $n$ flights of stairs = \n",
    "number of ways to climb $n-2$ flights + number of ways to climb $n-1$ flights.\n",
    "\n",
    "### Implementation\n",
    "* Recursive:  \n",
    "If $n > 2$ then call function to calculate $n-1$ + $n-2$.  \n",
    "Else return n\n",
    "* Optimized:  \n",
    "Calculate flights starting from 3 flights to reduce recalculations,  \n",
    "e.g., to find answer to 5 flights:  \n",
    "calculate 3 flights by 1 and 2 $\\rightarrow$ calculate 4 flights by 2 and 3 \n",
    "$\\rightarrow$ calculate 5 flights by 3 and 4"
   ]
  },
  {
   "cell_type": "markdown",
   "metadata": {},
   "source": [
    "## Pseudocode\n",
    "```\n",
    "FUNCTION stair_climb(number_of_flights):\n",
    "    SET flight = list of number of ways to climb n flights\n",
    "    SET flight[0] = 1 (1 way for 1 flight)\n",
    "    SET flight[1] = 2 (2 ways for 2 flights)\n",
    "    \n",
    "    FOR i = 2 to number_of_flights - 1\n",
    "        SET cur = flight[i-1] + flight[i-2]\n",
    "        SET last element of flight to cur\n",
    "    ENDFOR\n",
    "ENDFUNCTION\n",
    "```"
   ]
  },
  {
   "cell_type": "markdown",
   "metadata": {},
   "source": [
    "## Code"
   ]
  },
  {
   "cell_type": "code",
   "execution_count": 3,
   "metadata": {},
   "outputs": [
    {
     "name": "stdout",
     "output_type": "stream",
     "text": [
      "Enter n: 15\n",
      "987\n"
     ]
    }
   ],
   "source": [
    "def stair_climb(n):\n",
    "    flight = [1, 2]\n",
    "    \n",
    "    for i in range(2, n):\n",
    "        cur = flight[i-1] + flight[i-2]\n",
    "        flight.append(cur)\n",
    "    \n",
    "    return flight[n-1]\n",
    "\n",
    "\n",
    "n = int(input(\"Enter n: \"))\n",
    "\n",
    "print(stair_climb(n))"
   ]
  },
  {
   "cell_type": "markdown",
   "metadata": {},
   "source": [
    "## Code Version 2"
   ]
  },
  {
   "cell_type": "code",
   "execution_count": 7,
   "metadata": {},
   "outputs": [
    {
     "name": "stdout",
     "output_type": "stream",
     "text": [
      "Enter n: 15\n",
      "987\n"
     ]
    }
   ],
   "source": [
    "def stair_climb(n):\n",
    "    if n == 1:\n",
    "        return 1\n",
    "    \n",
    "    if n == 2:\n",
    "        return 2\n",
    "    \n",
    "    step1, step2 = 1, 2\n",
    "    \n",
    "    for i in range(2, n):\n",
    "        step1, step2 = step2, step1+step2\n",
    "    \n",
    "    return step2\n",
    "\n",
    "n = int(input(\"Enter n: \"))\n",
    "print(stair_climb(n))"
   ]
  }
 ],
 "metadata": {
  "kernelspec": {
   "display_name": "Python 3",
   "language": "python",
   "name": "python3"
  },
  "language_info": {
   "codemirror_mode": {
    "name": "ipython",
    "version": 3
   },
   "file_extension": ".py",
   "mimetype": "text/x-python",
   "name": "python",
   "nbconvert_exporter": "python",
   "pygments_lexer": "ipython3",
   "version": "3.7.1"
  }
 },
 "nbformat": 4,
 "nbformat_minor": 2
}
