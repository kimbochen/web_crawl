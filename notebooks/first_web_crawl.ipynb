{
 "cells": [
  {
   "cell_type": "code",
   "execution_count": null,
   "metadata": {},
   "outputs": [],
   "source": [
    "from bs4 import BeautifulSoup\n",
    "import lxml\n",
    "import requests\n",
    "\n",
    "req = requests.get('https://ca.pandora.net/en/charms/theme/best-sellers/')\n",
    "soup = BeautifulSoup(req.text, 'lxml')"
   ]
  },
  {
   "cell_type": "code",
   "execution_count": null,
   "metadata": {},
   "outputs": [],
   "source": [
    "# Finding a tile (unit of product)\n",
    "tile = soup.find_all('div', attrs = {'class': 'product-tile'})[0]\n",
    "tile"
   ]
  },
  {
   "cell_type": "code",
   "execution_count": null,
   "metadata": {},
   "outputs": [],
   "source": [
    "# Find the price of the charm\n",
    "tile.find('span', attrs = {'class': 'price-sales'}).get_text('|', strip = True)"
   ]
  },
  {
   "cell_type": "code",
   "execution_count": null,
   "metadata": {},
   "outputs": [],
   "source": [
    "# Find the image source\n",
    "img_src = tile.find('img')['src']\n",
    "\n",
    "# Download the image\n",
    "img = requests.get(img_src, stream = True)\n",
    "img.raise_for_status()\n",
    "with open('picture.jpg', 'wb') as fd:\n",
    "    for chunk in img.iter_content(chunk_size = 50000):\n",
    "        print('Receive a chunk')\n",
    "        fd.write(chunk)"
   ]
  },
  {
   "cell_type": "code",
   "execution_count": null,
   "metadata": {},
   "outputs": [],
   "source": [
    "# Find the charm name\n",
    "tile.find('img')['title']"
   ]
  },
  {
   "cell_type": "code",
   "execution_count": null,
   "metadata": {},
   "outputs": [],
   "source": [
    "# Testing output\n",
    "charm_list = soup.find_all('div', attrs = {'class': 'product-tile'})\n",
    "\n",
    "for charm in charm_list:\n",
    "    charm_name = charm.find('img')['title']\n",
    "    charm_img = charm.find('img')['src']\n",
    "    charm_price = charm.find('span', attrs = {'class': 'price-sales'}).get_text()\n",
    "    print(charm_name, charm_price, charm_img)"
   ]
  },
  {
   "cell_type": "code",
   "execution_count": null,
   "metadata": {},
   "outputs": [],
   "source": [
    "# Scraping from different data\n",
    "name = soup.find_all('a', attrs = {'class': 'name-link'})\n",
    "name[0].get_text('|', strip = True)"
   ]
  },
  {
   "cell_type": "code",
   "execution_count": null,
   "metadata": {},
   "outputs": [],
   "source": [
    "img = soup.find_all('a', attrs = {'class': 'thumb-link js-producttile-main-image'})\n",
    "img_src = img[0].find('img')['src']"
   ]
  },
  {
   "cell_type": "code",
   "execution_count": null,
   "metadata": {},
   "outputs": [],
   "source": [
    "price = soup.find_all('span', attrs = {'class': 'price-sales'})\n",
    "price[0].get_text()"
   ]
  },
  {
   "cell_type": "code",
   "execution_count": null,
   "metadata": {},
   "outputs": [],
   "source": [
    "# Testing markdown syntax\n",
    "print(f\"* _{name[0].get_text('|', strip = True)}_: **{price[0].get_text()}** <img src={img_src} width=30% height=30%>\")"
   ]
  },
  {
   "cell_type": "code",
   "execution_count": null,
   "metadata": {},
   "outputs": [],
   "source": [
    "# Testing output\n",
    "name = []\n",
    "for n in soup.find_all('a', attrs = {'class': 'name-link'}):\n",
    "    name.append(n.get_text('|', strip = True))\n",
    "\n",
    "price = []\n",
    "for p in soup.find_all('span', attrs = {'class': 'price-sales'}):\n",
    "    price.append(p.get_text())\n",
    "\n",
    "img_src = []\n",
    "for s in soup.find_all('a', attrs = {'class': 'thumb-link js-producttile-main-image'}):\n",
    "    img_src.append(s.find('img')['src'])\n",
    "\n",
    "for n, p, s in zip(name, price, img_src):\n",
    "    print(f'* _{n}_: **{p}** <img src=\\\"{s}\\\" width=30% height=30%>')"
   ]
  },
  {
   "cell_type": "code",
   "execution_count": 92,
   "metadata": {},
   "outputs": [],
   "source": [
    "# Testing writing to file\n",
    "with open('pandora.md', 'w', encoding = 'utf-8') as file:\n",
    "    file.write('# Pandora Charms - Best Sellers')\n",
    "    for n, p, s in zip(name, price, img_src):\n",
    "        file.write(f'\\n* _{n}_: **{p}**\\\\\\n<img src=\\\"{s}\\\" width=30% height=30%>')"
   ]
  },
  {
   "cell_type": "code",
   "execution_count": 3,
   "metadata": {},
   "outputs": [],
   "source": [
    "# Final version\n",
    "\n",
    "from bs4 import BeautifulSoup\n",
    "import lxml\n",
    "import requests\n",
    "\n",
    "req = requests.get('https://ca.pandora.net/en/charms/theme/best-sellers/')\n",
    "soup = BeautifulSoup(req.text, 'lxml')\n",
    "\n",
    "name = []\n",
    "for n in soup.find_all('a', attrs = {'class': 'name-link'}):\n",
    "    name.append(n.get_text('|', strip = True))\n",
    "\n",
    "price = []\n",
    "for p in soup.find_all('span', attrs = {'class': 'price-sales'}):\n",
    "    price.append(p.get_text())\n",
    "\n",
    "img_src = []\n",
    "for s in soup.find_all('a', attrs = {'class': 'thumb-link js-producttile-main-image'}):\n",
    "    img_src.append(s.find('img')['src'])\n",
    "\n",
    "with open('pandora_charm.md', 'w', encoding = 'utf-8') as file:\n",
    "    file.write('# Pandora Charms - Best Sellers')\n",
    "    for n, p, s in zip(name, price, img_src):\n",
    "        file.write(f'\\n* _{n}_: **{p}**\\\\\\n<img src=\\\"{s}\\\" width=30% height=30%>')"
   ]
  },
  {
   "cell_type": "code",
   "execution_count": 6,
   "metadata": {},
   "outputs": [
    {
     "name": "stdout",
     "output_type": "stream",
     "text": [
      "# Pandora Charms - Best Sellers\n",
      "* _Spiritual Dreamcatcher Dangle Charm_: **C$ 60.00**\\\n",
      "<img src=\"https://ca.pandora.net/on/demandware.static/-/Sites-pandora-master-catalog/default/dwce08e9d4/productimages/main/797200_RGB.jpg\" width=30% height=30%>\n",
      "* _Family Roots Charm_: **C$ 45.00**\\\n",
      "<img src=\"https://ca.pandora.net/on/demandware.static/-/Sites-pandora-master-catalog/default/dwa368a090/productimages/main/797590_RGB.jpg\" width=30% height=30%>\n",
      "* _Bruno the Unicorn Charm_: **C$ 45.00**\\\n",
      "<img src=\"https://ca.pandora.net/on/demandware.static/-/Sites-pandora-master-catalog/default/dwe6809eeb/productimages/main/797609_RGB.jpg\" width=30% height=30%>\n",
      "* _Paw Prints, Clear CZ_: **C$ 75.00**\\\n",
      "<img src=\"https://ca.pandora.net/on/demandware.static/-/Sites-pandora-master-catalog/default/dwb33291df/productimages/main/791714CZ_RGB.jpg\" width=30% height=30%>\n",
      "* _Darling Daisies Spacer, White Enamel_: **C$ 35.00**\\\n",
      "<img src=\"https://ca.pandora.net/on/demandware.static/-/Sites-pandora-master-catalog/default/dwa25f8293/productimages/main/791495EN12.jpg\" width=30% height=30%>\n",
      "* _Shining Elegance Clip, Clear CZ_: **C$ 50.00**\\\n",
      "<img src=\"https://ca.pandora.net/on/demandware.static/-/Sites-pandora-master-catalog/default/dwd7fb36fd/productimages/main/791817CZ_RGB.jpg\" width=30% height=30%>\n",
      "* _Disney, Mickey & Minnie Vintage Car Charm_: **C$ 55.00**\\\n",
      "<img src=\"https://ca.pandora.net/on/demandware.static/-/Sites-pandora-master-catalog/default/dw5946af94/productimages/main/797174_RGB.jpg\" width=30% height=30%>\n",
      "* _Vintage Night Sky, Shimmering Midnight Blue Enamel & Clear CZ_: **C$ 75.00**\\\n",
      "<img src=\"https://ca.pandora.net/on/demandware.static/-/Sites-pandora-master-catalog/default/dw509abbb8/productimages/main/791993CZ_RGB.jpg\" width=30% height=30%>\n",
      "* _Adventure Awaits, Clear CZ_: **C$ 45.00**\\\n",
      "<img src=\"https://ca.pandora.net/on/demandware.static/-/Sites-pandora-master-catalog/default/dw53311b10/productimages/main/791147CZ.jpg\" width=30% height=30%>\n",
      "* _Family Heritage, Clear CZ_: **C$ 75.00**\\\n",
      "<img src=\"https://ca.pandora.net/on/demandware.static/-/Sites-pandora-master-catalog/default/dw1bcb1fa2/productimages/main/791728CZ_RGB.jpg\" width=30% height=30%>\n",
      "* _Lucky Elephant_: **C$ 40.00**\\\n",
      "<img src=\"https://ca.pandora.net/on/demandware.static/-/Sites-pandora-master-catalog/default/dwc1545b64/productimages/main/791902_RGB.jpg\" width=30% height=30%>\n",
      "* _Sister's Love, Pink CZ_: **C$ 50.00**\\\n",
      "<img src=\"https://ca.pandora.net/on/demandware.static/-/Sites-pandora-master-catalog/default/dw7eb8c452/productimages/main/791946PCZ_RGB.jpg\" width=30% height=30%>\n",
      "* _Love Makes A Family, Pink Enamel & Clear CZ_: **C$ 60.00**\\\n",
      "<img src=\"https://ca.pandora.net/on/demandware.static/-/Sites-pandora-master-catalog/default/dwfee7fb58/productimages/main/796459EN28_RGB.jpg\" width=30% height=30%>\n",
      "* _Inspiration Within Spacer, Clear CZ_: **C$ 45.00**\\\n",
      "<img src=\"https://ca.pandora.net/on/demandware.static/-/Sites-pandora-master-catalog/default/dw7d4b8ea0/productimages/main/791359CZ.jpg\" width=30% height=30%>\n",
      "* _Mother & Daughter Hearts, Soft Pink Enamel & Clear CZ_: **C$ 75.00**\\\n",
      "<img src=\"https://ca.pandora.net/on/demandware.static/-/Sites-pandora-master-catalog/default/dw2d4a1a68/productimages/main/792072EN40_RGB.jpg\" width=30% height=30%>\n",
      "* _Open Your Heart_: **C$ 35.00**\\\n",
      "<img src=\"https://ca.pandora.net/on/demandware.static/-/Sites-pandora-master-catalog/default/dw34040559/productimages/main/790964_RGB.jpg\" width=30% height=30%>\n",
      "* _Drink To Go Charm, Pink Enamel_: **C$ 50.00**\\\n",
      "<img src=\"https://ca.pandora.net/on/demandware.static/-/Sites-pandora-master-catalog/default/dwf49ff40a/productimages/main/797185EN160_RGB.jpg\" width=30% height=30%>\n",
      "* _Love Canada Charm, Red Enamel_: **C$ 60.00**\\\n",
      "<img src=\"https://ca.pandora.net/on/demandware.static/-/Sites-pandora-master-catalog/default/dw79687772/productimages/main/797207EN07_RGB.jpg\" width=30% height=30%>\n",
      "* _Curious Cat_: **C$ 40.00**\\\n",
      "<img src=\"https://ca.pandora.net/on/demandware.static/-/Sites-pandora-master-catalog/default/dw9d9eba24/productimages/main/791706_RGB.jpg\" width=30% height=30%>\n",
      "* _Open Your Heart Filigree, PANDORA Rose™_: **C$ 45.00**\\\n",
      "<img src=\"https://ca.pandora.net/on/demandware.static/-/Sites-pandora-master-catalog/default/dwe6bce6f0/productimages/main/780964_RGB.jpg\" width=30% height=30%>\n",
      "* _Daughter's Love, Clear CZ_: **C$ 50.00**\\\n",
      "<img src=\"https://ca.pandora.net/on/demandware.static/-/Sites-pandora-master-catalog/default/dwa1f57f7d/productimages/main/791726PCZ_RGB.jpg\" width=30% height=30%>\n",
      "* _Perfect Mom Dangle Charm, Soft Pink & Lilac Crystal_: **C$ 55.00**\\\n",
      "<img src=\"https://ca.pandora.net/on/demandware.static/-/Sites-pandora-master-catalog/default/dw4fe22f7b/productimages/main/797059NSP_RGB.jpg\" width=30% height=30%>\n",
      "* _Filled with Romance, PANDORA Rose™_: **C$ 50.00**\\\n",
      "<img src=\"https://ca.pandora.net/on/demandware.static/-/Sites-pandora-master-catalog/default/dwbfc6cd06/productimages/main/781811_RGB.jpg\" width=30% height=30%>\n",
      "* _Harmonious Hearts Dangle Charm, PANDORA Rose™_: **C$ 50.00**\\\n",
      "<img src=\"https://ca.pandora.net/on/demandware.static/-/Sites-pandora-master-catalog/default/dwbb358eff/productimages/singlepackshot/787255_RGB.jpg\" width=30% height=30%>\n",
      "* _Dreamy Dragonfly Charm, Clear CZ_: **C$ 45.00**\\\n",
      "<img src=\"https://ca.pandora.net/on/demandware.static/-/Sites-pandora-master-catalog/default/dwb5c11f6e/productimages/main/797025CZ_RGB.jpg\" width=30% height=30%>\n",
      "* _PANDORA Reflexions™ Tree of Life Charm_: **C$ 40.00**\\\n",
      "<img src=\"https://ca.pandora.net/on/demandware.static/-/Sites-pandora-master-catalog/default/dw5ee023e7/productimages/main/797779_RGB.jpg\" width=30% height=30%>\n",
      "* _Keys of Love Dangle Charm, Red CZ & Multi-coloured Crystals_: **C$ 60.00**\\\n",
      "<img src=\"https://ca.pandora.net/on/demandware.static/-/Sites-pandora-master-catalog/default/dw52bee475/productimages/main/797654NPMMX_RGB.jpg\" width=30% height=30%>\n",
      "* _Globe Clip_: **C$ 45.00**\\\n",
      "<img src=\"https://ca.pandora.net/on/demandware.static/-/Sites-pandora-master-catalog/default/dw47c81876/productimages/main/791182.jpg\" width=30% height=30%>\n",
      "* _Eiffel Tower_: **C$ 50.00**\\\n",
      "<img src=\"https://ca.pandora.net/on/demandware.static/-/Sites-pandora-master-catalog/default/dwc1805cf7/productimages/main/791082.jpg\" width=30% height=30%>\n",
      "* _Charming Owls_: **C$ 45.00**\\\n",
      "<img src=\"https://ca.pandora.net/on/demandware.static/-/Sites-pandora-master-catalog/default/dw751864c8/productimages/main/791966_RGB.jpg\" width=30% height=30%>\n"
     ]
    }
   ],
   "source": [
    "import sys\n",
    "\n",
    "with open('pandora_charm.md', 'r', encoding = 'utf-8') as file:\n",
    "    print(file.read())"
   ]
  },
  {
   "cell_type": "code",
   "execution_count": null,
   "metadata": {},
   "outputs": [],
   "source": []
  }
 ],
 "metadata": {
  "kernelspec": {
   "display_name": "Python 3",
   "language": "python",
   "name": "python3"
  },
  "language_info": {
   "codemirror_mode": {
    "name": "ipython",
    "version": 3
   },
   "file_extension": ".py",
   "mimetype": "text/x-python",
   "name": "python",
   "nbconvert_exporter": "python",
   "pygments_lexer": "ipython3",
   "version": "3.7.1"
  }
 },
 "nbformat": 4,
 "nbformat_minor": 2
}
