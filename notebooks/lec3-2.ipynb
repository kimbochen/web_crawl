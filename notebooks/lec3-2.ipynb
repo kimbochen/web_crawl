{
 "cells": [
  {
   "cell_type": "code",
   "execution_count": 9,
   "metadata": {},
   "outputs": [],
   "source": [
    "import requests\n",
    "import sys\n",
    "\n",
    "url = \"https://tw.pycon.org/2018/zh-hant/registration/ticket-info/\"\n",
    "\n",
    "headers = {\"Cookies\": \"_ga=GA1.2.632429602.1519727086; __utma=70098837.632429602.1519727086.1541425192.1541425192.1; __utmc=70098837; __utmz=70098837.1541425192.1.1.utmcsr=google|utmccn=(organic)|utmcmd=organic|utmctr=(not%20provided); _gcl_au=1.1.482413441.1553002254; csrftoken=zL9yUFPAlCqErCeN5iv80kmCMSYxc1VmVRJkhYsKNkoCBd2sYvxyZqDEg1NKiKVI; sessionid=x7frbvfgs17jwm50w6brb2xvojxh4lp4; _gid=GA1.2.333361739.1553839508\",\n",
    "          \"Referer\": \"https://tw.pycon.org/2018/zh-hant/events/overview/\",\n",
    "          \"User-Agent\": \"Mozilla/5.0 (Linux; Android 6.0; Nexus 5 Build/MRA58N) AppleWebKit/537.36 (KHTML, like Gecko) Chrome/72.0.3626.121 Mobile Safari/537.36\"}\n",
    "\n",
    "res = requests.get(url, timeout = 1)\n",
    "\n",
    "with open(\"pycon_2018_schedule.txt\", \"w\", encoding = \"utf-8\", ) as file:\n",
    "    file.write(res.text)"
   ]
  },
  {
   "cell_type": "code",
   "execution_count": 17,
   "metadata": {},
   "outputs": [],
   "source": [
    "import sys\n",
    "\n",
    "file = open(\"pycon_2018_schedule.txt\", 'r', encoding = \"utf-8\")\n",
    "\n",
    "content = file.read()\n",
    "\n",
    "file.close()\n",
    "\n",
    "# print(content.encode(\"utf-8\").decode(\"utf-8\"))"
   ]
  },
  {
   "cell_type": "code",
   "execution_count": 18,
   "metadata": {},
   "outputs": [],
   "source": [
    "import sys\n",
    "\n",
    "# for line in open(\"pycon_2018_schedule.txt\", 'r'):\n",
    "    # print(line)"
   ]
  },
  {
   "cell_type": "code",
   "execution_count": 74,
   "metadata": {
    "scrolled": true
   },
   "outputs": [
    {
     "name": "stdout",
     "output_type": "stream",
     "text": [
      "陳昇瑋                                : 陳昇瑋\n",
      "Claudiu Popa                       : Crossing the Python 3 Rubicon\n",
      "Poshih Chiang                      : Using Tensorflow on stellar classification\n",
      "Shuhsi Lin                         : Smart Things + Home Assistant: build your own smart home\n",
      "曾君宇                                : from ai.backend import python\n",
      "Jiawei Chen                        : 心靈遊戲: 利用Python探索直覺物理\n",
      "Malo                               : Python工業4.0 - 自造工廠監控系統\n",
      "Max Lai                            : Java-Jersey 到 Python-Flask 服務不中斷重構之旅\n",
      "廖偉涵 Adrian Liaw                    : Educational Code Reviews\n",
      "林育正 (Yu-Zheng Lin)                 : Python in Taiwan Photon Source : Motion Control, Data logger and Chatbot\n",
      "Tzu-ping Chung                     : 這樣的開發環境沒問題嗎？\n",
      "魏聖倫 Kevin Wei                      : 輿論分析量測電視劇觀看喜好的風向 Public opinion monitoring for TV series\n",
      "Victor Gau, 沈弘哲 and Malo           : 土炮一個 Line 股票機器人\n",
      "Jimmy Lai                          : Adopting Python Asyncio in Large Scale Project (Instagram)\n",
      "徐愷 and 曾譯平                         : 自製高擴充性機器學習系統\n",
      "TsungWei Hu                        : 初學者聯盟 The Beginners: 超級英雄也是從初心者練起\n",
      "Katie McLaughlin                   : Katie McLaughlin\n",
      "張泰瑋                                : 維基教我做的金頭腦：知識圖譜製作初體驗\n",
      "蘇羿豪                                : 以Astroquery套件擷取線上天文觀測資料\n",
      "郭學聰 (Hsueh-Tsung Kuo)              : MongoEngine Inside: the Detail of MongoDB & MongoEngine\n",
      "Elvis Saravia                      : Deep Learning for NLP: PyTorch vs Tensorflow\n",
      "曾奕勳                                : 從螢幕閱讀程式 - NVDA - 探討資訊輔助科技與使用者介面可及性發展\n",
      "Yi-Chieh Chen                      : Easy way to build a real time and asynchronous web or app with Django Channels\n",
      "Anand Sai and Aditthya Ramakrishnan: Deep dive into smart contracts and blockchains\n",
      "sosorry                            : 小鴨城(Duckietown)，一個基於 Raspberry Pi 和 ROS 的開源無人小車專案介紹\n",
      "黃坤賢                                : 用 Python 來玩粒子物理實驗吧：An Example of Using Deep Learning to Correct Energy Measurement in the Belle II Experiment\n",
      "Kir Chou                           : 巨大保護傘下的 Python 碼農辛酸史\n",
      "陳建安 and 廖子慶                        : Python實作運彩下注策略\n",
      "袁克倫                                : 往 MVC GUI 設計邁進 - tkouter - 支援 html-based layout 的 tkinter 擴充函式庫\n",
      "Andy Dai                           : 該怎麼樣（認真的）部署你的 Python Web 應用程式?\n",
      "Yung-Yu Chen                       : Start Wrap Episode 11: A New Rope\n",
      "古宣佑 Hsuanyu                        : 洞見驅動創新：利用Keras，打造遊戲直播精彩剪輯\n"
     ]
    }
   ],
   "source": [
    "from bs4 import BeautifulSoup\n",
    "import lxml\n",
    "import requests\n",
    "\n",
    "res = requests.get(\"https://tw.pycon.org/2018/zh-hant/events/schedule/\")\n",
    "soup = BeautifulSoup(res.text, 'lxml')\n",
    "\n",
    "speakers = []\n",
    "for speaker in soup.find_all('p', attrs = {\"class\": \"talk-speakers\"}):\n",
    "    speakers.append(speaker.get_text('|', strip = True))\n",
    "\n",
    "titles = []\n",
    "for title in soup.find_all('a', attrs = {\"class\": \"localed-url\"}):\n",
    "    titles.append(title.get_text('|', strip = True))\n",
    "\n",
    "for s, t in zip(speakers, titles):\n",
    "    print(f\"{s:<35}: {t}\")"
   ]
  },
  {
   "cell_type": "code",
   "execution_count": null,
   "metadata": {},
   "outputs": [],
   "source": []
  },
  {
   "cell_type": "code",
   "execution_count": null,
   "metadata": {},
   "outputs": [],
   "source": []
  }
 ],
 "metadata": {
  "kernelspec": {
   "display_name": "Python 3",
   "language": "python",
   "name": "python3"
  },
  "language_info": {
   "codemirror_mode": {
    "name": "ipython",
    "version": 3
   },
   "file_extension": ".py",
   "mimetype": "text/x-python",
   "name": "python",
   "nbconvert_exporter": "python",
   "pygments_lexer": "ipython3",
   "version": "3.7.1"
  }
 },
 "nbformat": 4,
 "nbformat_minor": 2
}
