{
 "cells": [
  {
   "cell_type": "code",
   "execution_count": 3,
   "metadata": {},
   "outputs": [],
   "source": [
    "from selenium import webdriver\n",
    "\n",
    "browser = webdriver.Firefox()\n",
    "\n",
    "browser.implicitly_wait(5)\n",
    "\n",
    "url = 'http://google.com/'\n",
    "\n",
    "browser.get(url)\n",
    "\n",
    "# browser.implicitly_wait(3)\n",
    "\n",
    "# browser.close()"
   ]
  },
  {
   "cell_type": "code",
   "execution_count": null,
   "metadata": {},
   "outputs": [],
   "source": [
    "from selenium.webdriver.support.ui import WebDriverWait\n",
    "from selenium.webdriver.support import expected_conditions as EC\n",
    "from selenium.common.exceptions import NoSuchElementException\n",
    "\n",
    "from bs4 import BeautifulSoup\n",
    "import lxml\n",
    "\n",
    "soup = BeautifulSoup(browser.page_source, 'lxml')"
   ]
  },
  {
   "cell_type": "code",
   "execution_count": 37,
   "metadata": {
    "scrolled": true
   },
   "outputs": [],
   "source": [
    "from selenium import webdriver\n",
    "\n",
    "browser = webdriver.Firefox()\n",
    "\n",
    "from selenium.webdriver.support.ui import WebDriverWait\n",
    "\n",
    "browser.implicitly_wait(10)\n",
    "\n",
    "browser.get('https://www.alexanderwang.com/tw-zh/women-t-by-alexanderwang')\n",
    "\n",
    "from selenium.webdriver.support import expected_conditions as EC\n",
    "from selenium.common.exceptions import NoSuchElementException\n",
    "\n",
    "from bs4 import BeautifulSoup\n",
    "import lxml\n",
    "\n",
    "soup = BeautifulSoup(browser.page_source, 'lxml')\n",
    "\n",
    "# for title in soup.find_all('picture', attrs = {\"title\": True}):\n",
    "#    print(title.decode_contents())\n",
    "\n",
    "pic_list = soup.find_all('picture', attrs = {\"title\": True})\n",
    "\n",
    "browser.close()"
   ]
  },
  {
   "cell_type": "code",
   "execution_count": 44,
   "metadata": {
    "scrolled": false
   },
   "outputs": [
    {
     "name": "stdout",
     "output_type": "stream",
     "text": [
      "\n",
      "<source media=\"(max-width: 600px) and (-webkit-min-device-pixel-ratio: 2), (max-width: 600px) and (min-resolution: 192dpi)\" srcset=\"https://www.alexanderwang.com/dw/image/v2/BCCC_PRD/on/demandware.static/-/Sites-master/default/dw38cf18e5/hi-res/4W194008815F.jpg?sw=1200\">\n",
      "<source media=\"(max-width: 600px)\" srcset=\"https://www.alexanderwang.com/dw/image/v2/BCCC_PRD/on/demandware.static/-/Sites-master/default/dw38cf18e5/hi-res/4W194008815F.jpg?sw=600\">\n",
      "<source media=\"(min-width: 601px) and (max-width: 768px) and (-webkit-min-device-pixel-ratio: 2), (min-width: 601px) and (max-width: 768px) and (min-resolution: 192dpi)\" srcset=\"https://www.alexanderwang.com/dw/image/v2/BCCC_PRD/on/demandware.static/-/Sites-master/default/dw38cf18e5/hi-res/4W194008815F.jpg?sw=512\">\n",
      "<source media=\"(min-width: 601px) and (max-width: 768px)\" srcset=\"https://www.alexanderwang.com/dw/image/v2/BCCC_PRD/on/demandware.static/-/Sites-master/default/dw38cf18e5/hi-res/4W194008815F.jpg?sw=256\">\n",
      "<source media=\"(min-width: 769px) and (max-width: 1024px) and (-webkit-min-device-pixel-ratio: 2), (min-width: 769px) and (max-width: 1024px) and (min-resolution: 192dpi)\" srcset=\"https://www.alexanderwang.com/dw/image/v2/BCCC_PRD/on/demandware.static/-/Sites-master/default/dw38cf18e5/hi-res/4W194008815F.jpg?sw=512\">\n",
      "<source media=\"(min-width: 769px) and (max-width: 1024px)\" srcset=\"https://www.alexanderwang.com/dw/image/v2/BCCC_PRD/on/demandware.static/-/Sites-master/default/dw38cf18e5/hi-res/4W194008815F.jpg?sw=256\">\n",
      "<source media=\"(min-width: 1025px) and (max-width: 2049px) and (-webkit-min-device-pixel-ratio: 2), (min-width: 1025px) and (max-width: 2049px) and (min-resolution: 192dpi)\" srcset=\"https://www.alexanderwang.com/dw/image/v2/BCCC_PRD/on/demandware.static/-/Sites-master/default/dw38cf18e5/hi-res/4W194008815F.jpg?sw=720\">\n",
      "<source media=\"(min-width: 1025px) and (max-width: 2049px)\" srcset=\"https://www.alexanderwang.com/dw/image/v2/BCCC_PRD/on/demandware.static/-/Sites-master/default/dw38cf18e5/hi-res/4W194008815F.jpg?sw=360\">\n",
      "<source media=\"(min-width: 2050px) and (-webkit-min-device-pixel-ratio: 2), (min-width: 2050px) and (min-resolution: 192dpi)\" srcset=\"https://www.alexanderwang.com/dw/image/v2/BCCC_PRD/on/demandware.static/-/Sites-master/default/dw38cf18e5/hi-res/4W194008815F.jpg?sw=1200\">\n",
      "<source media=\"(min-width: 2050px)\" srcset=\"https://www.alexanderwang.com/dw/image/v2/BCCC_PRD/on/demandware.static/-/Sites-master/default/dw38cf18e5/hi-res/4W194008815F.jpg?sw=600\">\n",
      "<img alt=\"水洗尼龙裤\" class=\"image\" src=\"/on/demandware.static/-/Sites-master/default/dw38cf18e5/hi-res/4W194008815F.jpg\"/>\n",
      "<noscript>\n",
      "<img alt=\"水洗尼龙裤\" class=\"image image--fallback\" src=\"https://www.alexanderwang.com/dw/image/v2/BCCC_PRD/on/demandware.static/-/Sites-master/default/dw38cf18e5/hi-res/4W194008815F.jpg?sw=100\"/>\n",
      "</noscript>\n",
      "</source></source></source></source></source></source></source></source></source></source>\n"
     ]
    }
   ],
   "source": [
    "print(pic_list[0].decode_contents())"
   ]
  },
  {
   "cell_type": "code",
   "execution_count": null,
   "metadata": {},
   "outputs": [],
   "source": []
  }
 ],
 "metadata": {
  "kernelspec": {
   "display_name": "Python3 web_crawl",
   "language": "python",
   "name": "web_crawl-tpjzdf5m"
  },
  "language_info": {
   "codemirror_mode": {
    "name": "ipython",
    "version": 3
   },
   "file_extension": ".py",
   "mimetype": "text/x-python",
   "name": "python",
   "nbconvert_exporter": "python",
   "pygments_lexer": "ipython3",
   "version": "3.7.3"
  }
 },
 "nbformat": 4,
 "nbformat_minor": 2
}
